{
 "cells": [
  {
   "cell_type": "code",
   "execution_count": 1,
   "metadata": {},
   "outputs": [
    {
     "name": "stdout",
     "output_type": "stream",
     "text": [
      "129\n",
      "['12SL001.csv', '12SL001_2.csv', '12SL001_5.csv', '12SL002.csv', '12SL002_2.csv', '12SL002_5.csv', '12SL005.csv', '12SL005_2.csv', '12SL005_5.csv', '12SL020.csv', '12SL020_2.csv', '12SL020_5.csv', '12SL025.csv', '12SL025_2.csv', '12SL025_5.csv', '12SL027.csv', '12SL027_2.csv', '12SL027_5.csv', '12SL030.csv', '12SL030_2.csv', '12SL030_5.csv', '12SL035.csv', '12SL035_2.csv', '12SL035_5.csv', '12SL037.csv', '12SL037_2.csv', '12SL037_5.csv', '12SL039.csv', '12SL039_2.csv', '12SL039_5.csv', '12SL041.csv', '12SL041_2.csv', '12SL041_5.csv', '12SL043.csv', '12SL043_2.csv', '12SL043_5.csv', '12SL045.csv', '12SL045_2.csv', '12SL045_5.csv', '12SL052.csv', '12SL052_2.csv', '12SL052_5.csv', '12SL058.csv', '12SL058_2.csv', '12SL058_5.csv', '12SL064.csv', '12SL064_2.csv', '12SL064_5.csv', '12SL071.csv', '12SL071_2.csv', '12SL071_5.csv', '12SL072.csv', '12SL072_2.csv', '12SL072_5.csv', '12SL073.csv', '12SL073_2.csv', '12SL073_5.csv', '12SL074.csv', '12SL074_2.csv', '12SL074_5.csv', '12SL079.csv', '12SL079_2.csv', '12SL079_5.csv', '12SL080.csv', '12SL080_2.csv', '12SL080_5.csv', '12SL081.csv', '12SL081_2.csv', '12SL081_5.csv', '12SL082.csv', '12SL082_2.csv', '12SL082_5.csv', '12SL084.csv', '12SL084_2.csv', '12SL084_5.csv', '12SL087.csv', '12SL087_2.csv', '12SL087_5.csv', '12SL090.csv', '12SL090_2.csv', '12SL090_5.csv', '12SL093.csv', '12SL093_2.csv', '12SL093_5.csv', '12SL097.csv', '12SL097_2.csv', '12SL097_5.csv', '12SL099.csv', '12SL099_2.csv', '12SL099_5.csv', '12SL103.csv', '12SL103_2.csv', '12SL103_5.csv', '12SL107.csv', '12SL107_2.csv', '12SL107_5.csv', '12SL115.csv', '12SL115_2.csv', '12SL119.csv', '12SL119_2.csv', '12SL119_5.csv', '12SL128.csv', '12SL128_2.csv', '12SL128_5.csv', '12SL137.csv', '12SL137_2.csv', '12SL137_5.csv', '12SL142.csv', '12SL142_2.csv', '12SL142_5.csv', '12SL148.csv', '12SL148_2.csv', '12SL148_5.csv', '12SL152.csv', '12SL160.csv', '12SL160_2.csv', '12SL160_5.csv', '12SL161.csv', '12SL161_2.csv', '12SL161_5.csv', '12SL166.csv', '12SL166_2.csv', '12SL166_5.csv', '12SL173.csv', '12SL173_2.csv', '12SL173_5.csv', '12SL175.csv', '12SL175_2.csv', '12SL175_5.csv']\n",
      "44\n",
      "43\n",
      "42\n",
      "['12SL001.csv', '12SL002.csv', '12SL005.csv', '12SL020.csv', '12SL025.csv', '12SL027.csv', '12SL030.csv', '12SL035.csv', '12SL037.csv', '12SL039.csv', '12SL041.csv', '12SL043.csv', '12SL045.csv', '12SL052.csv', '12SL058.csv', '12SL064.csv', '12SL071.csv', '12SL072.csv', '12SL073.csv', '12SL074.csv', '12SL079.csv', '12SL080.csv', '12SL081.csv', '12SL082.csv', '12SL084.csv', '12SL087.csv', '12SL090.csv', '12SL093.csv', '12SL097.csv', '12SL099.csv', '12SL103.csv', '12SL107.csv', '12SL115.csv', '12SL119.csv', '12SL128.csv', '12SL137.csv', '12SL142.csv', '12SL148.csv', '12SL152.csv', '12SL160.csv', '12SL161.csv', '12SL166.csv', '12SL173.csv', '12SL175.csv']\n",
      "['12SL001_2.csv', '12SL002_2.csv', '12SL005_2.csv', '12SL020_2.csv', '12SL025_2.csv', '12SL027_2.csv', '12SL030_2.csv', '12SL035_2.csv', '12SL037_2.csv', '12SL039_2.csv', '12SL041_2.csv', '12SL043_2.csv', '12SL045_2.csv', '12SL052_2.csv', '12SL058_2.csv', '12SL064_2.csv', '12SL071_2.csv', '12SL072_2.csv', '12SL073_2.csv', '12SL074_2.csv', '12SL079_2.csv', '12SL080_2.csv', '12SL081_2.csv', '12SL082_2.csv', '12SL084_2.csv', '12SL087_2.csv', '12SL090_2.csv', '12SL093_2.csv', '12SL097_2.csv', '12SL099_2.csv', '12SL103_2.csv', '12SL107_2.csv', '12SL115_2.csv', '12SL119_2.csv', '12SL128_2.csv', '12SL137_2.csv', '12SL142_2.csv', '12SL148_2.csv', '12SL160_2.csv', '12SL161_2.csv', '12SL166_2.csv', '12SL173_2.csv', '12SL175_2.csv']\n",
      "['12SL001_5.csv', '12SL002_5.csv', '12SL005_5.csv', '12SL020_5.csv', '12SL025_5.csv', '12SL027_5.csv', '12SL030_5.csv', '12SL035_5.csv', '12SL037_5.csv', '12SL039_5.csv', '12SL041_5.csv', '12SL043_5.csv', '12SL045_5.csv', '12SL052_5.csv', '12SL058_5.csv', '12SL064_5.csv', '12SL071_5.csv', '12SL072_5.csv', '12SL073_5.csv', '12SL074_5.csv', '12SL079_5.csv', '12SL080_5.csv', '12SL081_5.csv', '12SL082_5.csv', '12SL084_5.csv', '12SL087_5.csv', '12SL090_5.csv', '12SL093_5.csv', '12SL097_5.csv', '12SL099_5.csv', '12SL103_5.csv', '12SL107_5.csv', '12SL119_5.csv', '12SL128_5.csv', '12SL137_5.csv', '12SL142_5.csv', '12SL148_5.csv', '12SL160_5.csv', '12SL161_5.csv', '12SL166_5.csv', '12SL173_5.csv', '12SL175_5.csv']\n",
      "['12SL001', '12SL002', '12SL005', '12SL020', '12SL025', '12SL027', '12SL030', '12SL035', '12SL037', '12SL039', '12SL041', '12SL043', '12SL045', '12SL052', '12SL058', '12SL064', '12SL071', '12SL072', '12SL073', '12SL074', '12SL079', '12SL080', '12SL081', '12SL082', '12SL084', '12SL087', '12SL090', '12SL093', '12SL097', '12SL099', '12SL103', '12SL107', '12SL115', '12SL119', '12SL128', '12SL137', '12SL142', '12SL148', '12SL152', '12SL160', '12SL161', '12SL166', '12SL173', '12SL175']\n",
      "['12SL001_2', '12SL002_2', '12SL005_2', '12SL020_2', '12SL025_2', '12SL027_2', '12SL030_2', '12SL035_2', '12SL037_2', '12SL039_2', '12SL041_2', '12SL043_2', '12SL045_2', '12SL052_2', '12SL058_2', '12SL064_2', '12SL071_2', '12SL072_2', '12SL073_2', '12SL074_2', '12SL079_2', '12SL080_2', '12SL081_2', '12SL082_2', '12SL084_2', '12SL087_2', '12SL090_2', '12SL093_2', '12SL097_2', '12SL099_2', '12SL103_2', '12SL107_2', '12SL115_2', '12SL119_2', '12SL128_2', '12SL137_2', '12SL142_2', '12SL148_2', '12SL160_2', '12SL161_2', '12SL166_2', '12SL173_2', '12SL175_2']\n",
      "['12SL001_5', '12SL002_5', '12SL005_5', '12SL020_5', '12SL025_5', '12SL027_5', '12SL030_5', '12SL035_5', '12SL037_5', '12SL039_5', '12SL041_5', '12SL043_5', '12SL045_5', '12SL052_5', '12SL058_5', '12SL064_5', '12SL071_5', '12SL072_5', '12SL073_5', '12SL074_5', '12SL079_5', '12SL080_5', '12SL081_5', '12SL082_5', '12SL084_5', '12SL087_5', '12SL090_5', '12SL093_5', '12SL097_5', '12SL099_5', '12SL103_5', '12SL107_5', '12SL119_5', '12SL128_5', '12SL137_5', '12SL142_5', '12SL148_5', '12SL160_5', '12SL161_5', '12SL166_5', '12SL173_5', '12SL175_5']\n",
      "44\n",
      "43\n",
      "42\n"
     ]
    }
   ],
   "source": [
    "import os\n",
    "PATH = os.path.join(\"HumanData\")\n",
    "\n",
    "filelist = []\n",
    "for file in os.listdir(PATH):\n",
    "    if file.endswith(\".csv\"):\n",
    "        filelist.append(file)\n",
    "print(len(filelist))\n",
    "print(filelist)\n",
    "\n",
    "mfilelist = []\n",
    "m2filelist = []\n",
    "m5filelist = []\n",
    "for file in filelist:\n",
    "    if \"_2\" not in file and \"_5\" not in file:\n",
    "        mfilelist.append(file)\n",
    "    if \"_2\" in file:\n",
    "        m2filelist.append(file)\n",
    "    if \"_5\" in file:\n",
    "        m5filelist.append(file)\n",
    "print(len(mfilelist))\n",
    "print(len(m2filelist))\n",
    "print(len(m5filelist))\n",
    "print(mfilelist)\n",
    "print(m2filelist)\n",
    "print(m5filelist)\n",
    "\n",
    "mnamelist = []\n",
    "m2namelist = []\n",
    "m5namelist = []\n",
    "for file in mfilelist:\n",
    "    mnamelist.append(file[:-4])\n",
    "for file in m2filelist:\n",
    "    m2namelist.append(file[:-4])\n",
    "for file in m5filelist:\n",
    "    m5namelist.append(file[:-4])\n",
    "print(mnamelist)\n",
    "print(m2namelist)\n",
    "print(m5namelist)\n",
    "print(len(mnamelist))\n",
    "print(len(m2namelist))\n",
    "print(len(m5namelist))\n"
   ]
  },
  {
   "cell_type": "code",
   "execution_count": 2,
   "metadata": {},
   "outputs": [],
   "source": [
    "import pandas as pd\n",
    "\n",
    "def load_data(filename, path=PATH):\n",
    "    csv_path = os.path.join(path, filename)\n",
    "    return pd.read_csv(csv_path)"
   ]
  },
  {
   "cell_type": "code",
   "execution_count": 3,
   "metadata": {},
   "outputs": [
    {
     "name": "stdout",
     "output_type": "stream",
     "text": [
      "                   aminoAcid  count\n",
      "0            CATSDQTEGMNEQFF   6137\n",
      "1                CSAKDGYGYTF   9745\n",
      "2               CSARTEENEQFF   2176\n",
      "3             CAGQGPGSGNTIYF   4173\n",
      "4             CASSWTGDSYEQYF   7233\n",
      "5              CASSYSRNTEQFF   3589\n",
      "6            CASSLRGALLYEQYF   1564\n",
      "7             CASSGQGSSYEQYF   2032\n",
      "8         CASSAHYSGTGVGNEQFF   2989\n",
      "9             CASSQVGGDYEQYF   2563\n",
      "10             CSARDRNNQPQHF   1607\n",
      "11           CASSLVQGPSGEQYF   3203\n",
      "12          CASSLSTGGGHYEQYF   1922\n",
      "13             CASSQDSADEQFF   1496\n",
      "14              CSAPDHNEKLFF    679\n",
      "15             CAGGMGSTDTQYF   1684\n",
      "16           CASSLGSGGSGGYTF   3799\n",
      "17          CASSDLQGSLYIEQFF   1391\n",
      "18            CASSGQGSSYEQYF    548\n",
      "19           CASSTRTGIASGYTF   1857\n",
      "20         CASSPQGGRLSSYEQYF   2331\n",
      "21          CASSLLGSESLYEQYF   2055\n",
      "22            CSARNRDGAYEQYF   1192\n",
      "23           CASSEEGGGSYEQYF   1470\n",
      "24            CSALIGGDSYEQYF   1069\n",
      "25           CASSEPLGLAYEQYF   1255\n",
      "26           CSVVYLGQVNNEQFF    285\n",
      "27      CASSEMPGTSGGAATDTQYF   1042\n",
      "28             CAWSRGNTGELFF    387\n",
      "29         CASSAGSWTSGRGEQFF    897\n",
      "...                      ...    ...\n",
      "420311          CASSGPNTEAFF      1\n",
      "420312         CASDYRPNTEAFF      1\n",
      "420313       CASGRLGQTNTEAFF      1\n",
      "420314       CASSLDGGTNTEAFF      1\n",
      "420315         CASGPTTNTEAFF      1\n",
      "420316   CASSRSPLTGGRENTEAFF      1\n",
      "420317         CASSYRENTEAFF      1\n",
      "420318      CASSLDSGTENTEAFF      1\n",
      "420319     CASSKNFGGDQNTEAFF      1\n",
      "420320           CACNKNTEAFF      1\n",
      "420321      CASSILVGQKNTEAFF      1\n",
      "420322       CASSSRQGGNTEAFF      1\n",
      "420323        CASSYLESNTEAFF      1\n",
      "420324       CASSLDEGANTEAFF      1\n",
      "420325        CAISESVGNTEAFF      1\n",
      "420326       CASGSTGGENTEAFF      1\n",
      "420327          CASSPGGTEAFF      1\n",
      "420328       CASSLDQGVRTEAFF      1\n",
      "420329        CASGLVPGQDEAFF      1\n",
      "420330        CASSYGAEGNEAFF      1\n",
      "420331         CASSPSRRVEAFF      1\n",
      "420332         CASSRAGFWEAFF      1\n",
      "420333        CASTPSTGVREAFF      1\n",
      "420334        CASSIEVTGGEAFF      1\n",
      "420335         CASSTTGQSEAFF      1\n",
      "420336        CASSQDAGTTEAFF      1\n",
      "420337          CASSIGA*EAFF      1\n",
      "420338       CASSLTGQGDNKAFF      1\n",
      "420339           CASSSANPPFF      1\n",
      "420340        CASSSPSGDRGRLF      1\n",
      "\n",
      "[420341 rows x 2 columns]\n"
     ]
    }
   ],
   "source": [
    "mdata = {}\n",
    "for x in range(len(mfilelist)):\n",
    "    mdata[\"data{0}\".format(x)] = load_data(mfilelist[x])\n",
    "print(mdata[\"data0\"])"
   ]
  },
  {
   "cell_type": "code",
   "execution_count": 5,
   "metadata": {},
   "outputs": [],
   "source": [
    "for y in range(len(mdata)):\n",
    "    mdata[\"data\" + str(y)].columns = [\"aminoAcid\", mnamelist[y]]\n",
    "    mdata[\"data\" + str(y)] = mdata[\"data\" + str(y)].groupby([\"aminoAcid\"], as_index = False).agg({mnamelist[y]: \"sum\"})\n"
   ]
  },
  {
   "cell_type": "code",
   "execution_count": null,
   "metadata": {},
   "outputs": [],
   "source": []
  }
 ],
 "metadata": {
  "kernelspec": {
   "display_name": "Python 3",
   "language": "python",
   "name": "python3"
  },
  "language_info": {
   "codemirror_mode": {
    "name": "ipython",
    "version": 3
   },
   "file_extension": ".py",
   "mimetype": "text/x-python",
   "name": "python",
   "nbconvert_exporter": "python",
   "pygments_lexer": "ipython3",
   "version": "3.7.3"
  }
 },
 "nbformat": 4,
 "nbformat_minor": 2
}
